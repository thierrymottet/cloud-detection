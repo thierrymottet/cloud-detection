{
 "cells": [
  {
   "cell_type": "markdown",
   "metadata": {},
   "source": [
    "# Premier modele de classification  simple (1 forme par image) \n",
    "\n",
    "Dans un premier temps, nous avons tenté de dé\n",
    "finir et entraîner un modèle de classification simple par réseau de neurones profond (deep learning). Nous avons eu recours:\n",
    "- à une méthode de transfert learning, en réutilisant une architecture de type VGG19 pré-entrainée\n",
    "- à l'augmentation de donnée\n",
    "\n",
    "La prédiction de ce modèle permet de classer les images mono-formes: elle renvoit une classe par image, pouvant prendre 4 valeurs (Fish, Flower, Gravel, Sugar).\n",
    "C'est donc une approche par classification simple, qui ne nous permettra pas de trouver plusieurs formes dans une même image."
   ]
  },
  {
   "cell_type": "code",
   "execution_count": 1,
   "metadata": {},
   "outputs": [],
   "source": [
    "#Importation des packages nécessaires\n",
    "import numpy as np\n",
    "import cv2\n",
    "import matplotlib.pyplot as plt\n",
    "import seaborn as sns\n",
    "from keras.utils import np_utils\n",
    "import tensorflow as tf\n",
    "import os\n",
    "import pandas as pd\n",
    "\n",
    "import keras\n",
    "from keras.models import Sequential\n",
    "from keras.models import model_from_json\n",
    "from keras.layers import Dense, Conv2D , MaxPool2D , Flatten , Dropout, Activation,GlobalMaxPooling2D\n",
    "from keras.preprocessing.image import ImageDataGenerator\n",
    "from keras.optimizers import Adam\n",
    "from keras.layers.convolutional import MaxPooling2D\n",
    "from keras.layers.convolutional import Conv2D\n",
    "from keras import applications\n",
    "from keras import optimizers\n",
    "from keras.applications import VGG19\n",
    "from keras.models import Model\n",
    "from sklearn import metrics\n",
    "import itertools\n",
    "from keras import layers\n",
    "\n",
    "from sklearn.metrics import classification_report,confusion_matrix\n",
    "from sklearn.model_selection import train_test_split\n",
    "\n",
    "from keras.layers import Dense\n",
    "from keras.models import Sequential\n",
    "from keras.optimizers import SGD\n",
    "from keras.utils import to_categorical\n",
    "from keras.callbacks import Callback\n",
    "from keras import backend\n",
    "from tensorflow.keras import callbacks\n",
    "from tensorflow.keras import initializers\n",
    "\n",
    "from keras.callbacks import Callback, ModelCheckpoint, EarlyStopping, ReduceLROnPlateau"
   ]
  },
  {
   "cell_type": "markdown",
   "metadata": {},
   "source": [
    "## I. Préparation des données d'entraînement et de test\n",
    "\n",
    "De manière classique, nous allons préparer nos données. Nous rechargeons directement notre csv avec les différentes classes présentes."
   ]
  },
  {
   "cell_type": "code",
   "execution_count": 2,
   "metadata": {},
   "outputs": [
    {
     "data": {
      "text/html": [
       "<div>\n",
       "<style scoped>\n",
       "    .dataframe tbody tr th:only-of-type {\n",
       "        vertical-align: middle;\n",
       "    }\n",
       "\n",
       "    .dataframe tbody tr th {\n",
       "        vertical-align: top;\n",
       "    }\n",
       "\n",
       "    .dataframe thead th {\n",
       "        text-align: right;\n",
       "    }\n",
       "</style>\n",
       "<table border=\"1\" class=\"dataframe\">\n",
       "  <thead>\n",
       "    <tr style=\"text-align: right;\">\n",
       "      <th></th>\n",
       "      <th>Label_Fish</th>\n",
       "      <th>Label_Flower</th>\n",
       "      <th>Label_Gravel</th>\n",
       "      <th>Label_Sugar</th>\n",
       "      <th>Multilabel</th>\n",
       "      <th>nb_formes</th>\n",
       "    </tr>\n",
       "    <tr>\n",
       "      <th>ImageId</th>\n",
       "      <th></th>\n",
       "      <th></th>\n",
       "      <th></th>\n",
       "      <th></th>\n",
       "      <th></th>\n",
       "      <th></th>\n",
       "    </tr>\n",
       "  </thead>\n",
       "  <tbody>\n",
       "    <tr>\n",
       "      <th>0011165.jpg</th>\n",
       "      <td>1</td>\n",
       "      <td>1</td>\n",
       "      <td>0</td>\n",
       "      <td>0</td>\n",
       "      <td>Fish-Flower</td>\n",
       "      <td>2</td>\n",
       "    </tr>\n",
       "    <tr>\n",
       "      <th>002be4f.jpg</th>\n",
       "      <td>1</td>\n",
       "      <td>1</td>\n",
       "      <td>0</td>\n",
       "      <td>1</td>\n",
       "      <td>Fish-Flower-Sugar</td>\n",
       "      <td>3</td>\n",
       "    </tr>\n",
       "    <tr>\n",
       "      <th>0031ae9.jpg</th>\n",
       "      <td>1</td>\n",
       "      <td>1</td>\n",
       "      <td>0</td>\n",
       "      <td>1</td>\n",
       "      <td>Fish-Flower-Sugar</td>\n",
       "      <td>3</td>\n",
       "    </tr>\n",
       "    <tr>\n",
       "      <th>0035239.jpg</th>\n",
       "      <td>0</td>\n",
       "      <td>1</td>\n",
       "      <td>1</td>\n",
       "      <td>0</td>\n",
       "      <td>Flower-Gravel</td>\n",
       "      <td>2</td>\n",
       "    </tr>\n",
       "    <tr>\n",
       "      <th>003994e.jpg</th>\n",
       "      <td>1</td>\n",
       "      <td>0</td>\n",
       "      <td>1</td>\n",
       "      <td>1</td>\n",
       "      <td>Fish-Gravel-Sugar</td>\n",
       "      <td>3</td>\n",
       "    </tr>\n",
       "  </tbody>\n",
       "</table>\n",
       "</div>"
      ],
      "text/plain": [
       "             Label_Fish  Label_Flower  Label_Gravel  Label_Sugar  \\\n",
       "ImageId                                                            \n",
       "0011165.jpg           1             1             0            0   \n",
       "002be4f.jpg           1             1             0            1   \n",
       "0031ae9.jpg           1             1             0            1   \n",
       "0035239.jpg           0             1             1            0   \n",
       "003994e.jpg           1             0             1            1   \n",
       "\n",
       "                    Multilabel  nb_formes  \n",
       "ImageId                                    \n",
       "0011165.jpg        Fish-Flower          2  \n",
       "002be4f.jpg  Fish-Flower-Sugar          3  \n",
       "0031ae9.jpg  Fish-Flower-Sugar          3  \n",
       "0035239.jpg      Flower-Gravel          2  \n",
       "003994e.jpg  Fish-Gravel-Sugar          3  "
      ]
     },
     "execution_count": 2,
     "metadata": {},
     "output_type": "execute_result"
    }
   ],
   "source": [
    "#On lit de fichier CSV contenant une seule forme par image\n",
    "import pandas as pd\n",
    "df=pd.read_csv('df_corr.csv',encoding = \"utf-8\",index_col='ImageId')\n",
    "df_all = df\n",
    "df['nb_formes'] = df.Label_Fish + df.Label_Flower + df.Label_Gravel + df.Label_Sugar \n",
    "df.head()"
   ]
  },
  {
   "cell_type": "markdown",
   "metadata": {},
   "source": [
    "Comme il s'agit d'un problème de classification simple, nous ne conservons que les images avec 1 seule forme. Et nous éliminons également les 2 images problématiques."
   ]
  },
  {
   "cell_type": "code",
   "execution_count": 3,
   "metadata": {},
   "outputs": [
    {
     "data": {
      "text/plain": [
       "(1347, 6)"
      ]
     },
     "execution_count": 3,
     "metadata": {},
     "output_type": "execute_result"
    }
   ],
   "source": [
    "df = df[df['nb_formes'] == 1]\n",
    "df=df[df.index != \"e5f2f24.jpg\"]\n",
    "df=df[df.index != \"c26c635.jpg\"]\n",
    "df.shape"
   ]
  },
  {
   "cell_type": "markdown",
   "metadata": {},
   "source": [
    "Nous avons également créé un dataframe df_all qui contiendra toutes les images (mono et multi formes) pour la copie des images de taille réduite que nous effectuons plus bas, afin de ne pas répéter l'opération pour le modèle de classification multiple."
   ]
  },
  {
   "cell_type": "code",
   "execution_count": 4,
   "metadata": {},
   "outputs": [
    {
     "data": {
      "text/plain": [
       "(5544, 6)"
      ]
     },
     "execution_count": 4,
     "metadata": {},
     "output_type": "execute_result"
    }
   ],
   "source": [
    "df_all = df_all[df_all.index != \"e5f2f24.jpg\"]\n",
    "df_all=df_all[df_all.index != \"c26c635.jpg\"]\n",
    "df_all.shape"
   ]
  },
  {
   "cell_type": "markdown",
   "metadata": {},
   "source": [
    "Nous modifions ce dataframe pour ne conserver que 2 colonnes: l'un contenant nos images, et l'autre contenant la classe de l'image que l'on va chercher à prédire."
   ]
  },
  {
   "cell_type": "code",
   "execution_count": 5,
   "metadata": {},
   "outputs": [
    {
     "data": {
      "text/html": [
       "<div>\n",
       "<style scoped>\n",
       "    .dataframe tbody tr th:only-of-type {\n",
       "        vertical-align: middle;\n",
       "    }\n",
       "\n",
       "    .dataframe tbody tr th {\n",
       "        vertical-align: top;\n",
       "    }\n",
       "\n",
       "    .dataframe thead th {\n",
       "        text-align: right;\n",
       "    }\n",
       "</style>\n",
       "<table border=\"1\" class=\"dataframe\">\n",
       "  <thead>\n",
       "    <tr style=\"text-align: right;\">\n",
       "      <th></th>\n",
       "      <th>path</th>\n",
       "      <th>class</th>\n",
       "    </tr>\n",
       "  </thead>\n",
       "  <tbody>\n",
       "    <tr>\n",
       "      <th>0</th>\n",
       "      <td>train_images_500/00498ec.jpg</td>\n",
       "      <td>2</td>\n",
       "    </tr>\n",
       "    <tr>\n",
       "      <th>1</th>\n",
       "      <td>train_images_500/008233e.jpg</td>\n",
       "      <td>3</td>\n",
       "    </tr>\n",
       "    <tr>\n",
       "      <th>2</th>\n",
       "      <td>train_images_500/0095357.jpg</td>\n",
       "      <td>3</td>\n",
       "    </tr>\n",
       "    <tr>\n",
       "      <th>3</th>\n",
       "      <td>train_images_500/00d4443.jpg</td>\n",
       "      <td>3</td>\n",
       "    </tr>\n",
       "    <tr>\n",
       "      <th>4</th>\n",
       "      <td>train_images_500/0104b5b.jpg</td>\n",
       "      <td>3</td>\n",
       "    </tr>\n",
       "  </tbody>\n",
       "</table>\n",
       "</div>"
      ],
      "text/plain": [
       "                           path  class\n",
       "0  train_images_500/00498ec.jpg      2\n",
       "1  train_images_500/008233e.jpg      3\n",
       "2  train_images_500/0095357.jpg      3\n",
       "3  train_images_500/00d4443.jpg      3\n",
       "4  train_images_500/0104b5b.jpg      3"
      ]
     },
     "execution_count": 5,
     "metadata": {},
     "output_type": "execute_result"
    }
   ],
   "source": [
    "\n",
    "def modify_path(img):\n",
    "    path = 'train_images_500/' + str(img)\n",
    "    return path\n",
    "def getclass(row):\n",
    "    if row.Label_Fish == 1:\n",
    "        return 0\n",
    "    if row.Label_Flower == 1:\n",
    "        return 1\n",
    "    if row.Label_Gravel == 1:\n",
    "        return 2\n",
    "    if row.Label_Sugar == 1:\n",
    "        return 3   \n",
    "df_data = df\n",
    "df_data['path'] = df.index.map(modify_path)\n",
    "df_data['class']= df.apply(lambda row: getclass(row), axis = 1)\n",
    "df_data = df_data.reset_index()\n",
    "df_data = df_data.drop(['ImageId','nb_formes','Label_Fish','Label_Flower','Label_Gravel','Label_Sugar','Multilabel'], axis = 1)\n",
    "df_data.head()"
   ]
  },
  {
   "cell_type": "code",
   "execution_count": 6,
   "metadata": {},
   "outputs": [
    {
     "data": {
      "text/plain": [
       "(1347, 2)"
      ]
     },
     "execution_count": 6,
     "metadata": {},
     "output_type": "execute_result"
    }
   ],
   "source": [
    "df_data.shape"
   ]
  },
  {
   "cell_type": "markdown",
   "metadata": {},
   "source": [
    "### Réduction des images"
   ]
  },
  {
   "cell_type": "markdown",
   "metadata": {},
   "source": [
    "Pour la classification nous avons chargé toutes les images en mémoire. C'est quelque chose que nous avons ensuite modifié pour notre modèle final. Mais ça ce stade, nous avons du créé un folder dédié, nommé train_images_500,  dans lequel nous avons copié nos images de dimension réduite (500 x 500 pour nos modèles de classification).\n"
   ]
  },
  {
   "cell_type": "code",
   "execution_count": 7,
   "metadata": {},
   "outputs": [],
   "source": [
    "# Constants\n",
    "image_width = 500\n",
    "image_height = 500\n",
    "img_size = 500\n",
    "channels = 3\n",
    "batch_size = 64\n",
    "IMG_SHAPE = 500"
   ]
  },
  {
   "cell_type": "code",
   "execution_count": 22,
   "metadata": {},
   "outputs": [],
   "source": [
    "# traitement des images on doit créer nos images en 400 par 400 et cette fois pour tout le trade set\n",
    "import os\n",
    "TRAIN_PATH = 'train_images/'\n",
    "TARGET_PATH = 'train_images_500/'\n",
    "\n",
    "\n",
    "# nous allons récupérer l'ensemble des dimensions des images de l'ensemble d'entrainement\n",
    "# on itère sur les images on les redimensionne et on les sauve dans le nouveau dossier\n",
    "for img in df_all.index:\n",
    "    path_img = TRAIN_PATH + img\n",
    "    #print(train_path)\n",
    "    image = cv2.imread(path_img, cv2.IMREAD_GRAYSCALE)\n",
    "    new_img = cv2.resize(image, (img_size, img_size))\n",
    "    new_path = TARGET_PATH + \"/\" + str(img)\n",
    "    cv2.imwrite(new_path, new_img)\n"
   ]
  },
  {
   "cell_type": "markdown",
   "metadata": {},
   "source": [
    "### Split du jeu de données et augmentation de données"
   ]
  },
  {
   "cell_type": "code",
   "execution_count": 8,
   "metadata": {},
   "outputs": [],
   "source": [
    "from sklearn.model_selection import train_test_split\n",
    "X_train, X_test = train_test_split(df_data, test_size = 0.2)"
   ]
  },
  {
   "cell_type": "code",
   "execution_count": 9,
   "metadata": {},
   "outputs": [],
   "source": [
    "from keras.preprocessing.image import ImageDataGenerator\n",
    "\n",
    "from keras.applications.vgg16 import preprocess_input\n",
    "train_data_generator = ImageDataGenerator(rescale = 1./255,\n",
    "                                          #shear_range = 0.2,\n",
    "                                          rotation_range = 10,\n",
    "                                          width_shift_range = 0.1,\n",
    "                                          height_shift_range = 0.1,\n",
    "                                          zoom_range = 0.1,\n",
    "                                          #horizontal_flip = True,\n",
    "                                          fill_mode='nearest'\n",
    "                                         )\n",
    "\n",
    "test_data_generator = ImageDataGenerator(rescale = 1./255) #"
   ]
  },
  {
   "cell_type": "code",
   "execution_count": 10,
   "metadata": {},
   "outputs": [
    {
     "name": "stderr",
     "output_type": "stream",
     "text": [
      "/anaconda/envs/py35/lib/python3.5/site-packages/ipykernel/__main__.py:3: SettingWithCopyWarning: \n",
      "A value is trying to be set on a copy of a slice from a DataFrame.\n",
      "Try using .loc[row_indexer,col_indexer] = value instead\n",
      "\n",
      "See the caveats in the documentation: http://pandas.pydata.org/pandas-docs/stable/user_guide/indexing.html#returning-a-view-versus-a-copy\n",
      "  app.launch_new_instance()\n",
      "/anaconda/envs/py35/lib/python3.5/site-packages/ipykernel/__main__.py:4: SettingWithCopyWarning: \n",
      "A value is trying to be set on a copy of a slice from a DataFrame.\n",
      "Try using .loc[row_indexer,col_indexer] = value instead\n",
      "\n",
      "See the caveats in the documentation: http://pandas.pydata.org/pandas-docs/stable/user_guide/indexing.html#returning-a-view-versus-a-copy\n"
     ]
    }
   ],
   "source": [
    "X_train.head(5)\n",
    "batch_size = 32\n",
    "X_train[\"class\"] = X_train[\"class\"].astype(str)\n",
    "X_test[\"class\"] = X_test[\"class\"].astype(str)"
   ]
  },
  {
   "cell_type": "code",
   "execution_count": 11,
   "metadata": {},
   "outputs": [
    {
     "name": "stdout",
     "output_type": "stream",
     "text": [
      "Found 1077 validated image filenames belonging to 4 classes.\n",
      "Found 270 validated image filenames belonging to 4 classes.\n"
     ]
    }
   ],
   "source": [
    "train_generator = train_data_generator.flow_from_dataframe(dataframe=X_train,\n",
    "                                                          directory=\"\",\n",
    "                                                           x_col = \"path\",\n",
    "                                                           y_col = 'class',\n",
    "                                                           class_mode =\"sparse\",\n",
    "                                                          shuffle = False,\n",
    "                                                          target_size = (img_size , img_size), \n",
    "                                                          batch_size = batch_size)\n",
    "\n",
    "test_generator = test_data_generator.flow_from_dataframe(dataframe=X_test,\n",
    "                                                          directory=\"\",\n",
    "                                                           x_col = \"path\",\n",
    "                                                           y_col = 'class',\n",
    "                                                           class_mode =\"sparse\",\n",
    "                                                          shuffle = False,\n",
    "                                                          target_size = (img_size , img_size), \n",
    "                                                          batch_size = batch_size)"
   ]
  },
  {
   "cell_type": "markdown",
   "metadata": {},
   "source": [
    "### Definition du modèle de deep learning\n",
    "\n",
    "Nous utilisons un VGG12 pré-entraîné sur lequel nous freezons les 15 premières couches, puis nous rajoutons quelques couches denses."
   ]
  },
  {
   "cell_type": "code",
   "execution_count": 12,
   "metadata": {},
   "outputs": [
    {
     "name": "stdout",
     "output_type": "stream",
     "text": [
      "Model: \"vgg19\"\n",
      "_________________________________________________________________\n",
      "Layer (type)                 Output Shape              Param #   \n",
      "=================================================================\n",
      "input_1 (InputLayer)         [(None, 500, 500, 3)]     0         \n",
      "_________________________________________________________________\n",
      "block1_conv1 (Conv2D)        (None, 500, 500, 64)      1792      \n",
      "_________________________________________________________________\n",
      "block1_conv2 (Conv2D)        (None, 500, 500, 64)      36928     \n",
      "_________________________________________________________________\n",
      "block1_pool (MaxPooling2D)   (None, 250, 250, 64)      0         \n",
      "_________________________________________________________________\n",
      "block2_conv1 (Conv2D)        (None, 250, 250, 128)     73856     \n",
      "_________________________________________________________________\n",
      "block2_conv2 (Conv2D)        (None, 250, 250, 128)     147584    \n",
      "_________________________________________________________________\n",
      "block2_pool (MaxPooling2D)   (None, 125, 125, 128)     0         \n",
      "_________________________________________________________________\n",
      "block3_conv1 (Conv2D)        (None, 125, 125, 256)     295168    \n",
      "_________________________________________________________________\n",
      "block3_conv2 (Conv2D)        (None, 125, 125, 256)     590080    \n",
      "_________________________________________________________________\n",
      "block3_conv3 (Conv2D)        (None, 125, 125, 256)     590080    \n",
      "_________________________________________________________________\n",
      "block3_conv4 (Conv2D)        (None, 125, 125, 256)     590080    \n",
      "_________________________________________________________________\n",
      "block3_pool (MaxPooling2D)   (None, 62, 62, 256)       0         \n",
      "_________________________________________________________________\n",
      "block4_conv1 (Conv2D)        (None, 62, 62, 512)       1180160   \n",
      "_________________________________________________________________\n",
      "block4_conv2 (Conv2D)        (None, 62, 62, 512)       2359808   \n",
      "_________________________________________________________________\n",
      "block4_conv3 (Conv2D)        (None, 62, 62, 512)       2359808   \n",
      "_________________________________________________________________\n",
      "block4_conv4 (Conv2D)        (None, 62, 62, 512)       2359808   \n",
      "_________________________________________________________________\n",
      "block4_pool (MaxPooling2D)   (None, 31, 31, 512)       0         \n",
      "_________________________________________________________________\n",
      "block5_conv1 (Conv2D)        (None, 31, 31, 512)       2359808   \n",
      "_________________________________________________________________\n",
      "block5_conv2 (Conv2D)        (None, 31, 31, 512)       2359808   \n",
      "_________________________________________________________________\n",
      "block5_conv3 (Conv2D)        (None, 31, 31, 512)       2359808   \n",
      "_________________________________________________________________\n",
      "block5_conv4 (Conv2D)        (None, 31, 31, 512)       2359808   \n",
      "_________________________________________________________________\n",
      "block5_pool (MaxPooling2D)   (None, 15, 15, 512)       0         \n",
      "=================================================================\n",
      "Total params: 20,024,384\n",
      "Trainable params: 20,024,384\n",
      "Non-trainable params: 0\n",
      "_________________________________________________________________\n"
     ]
    }
   ],
   "source": [
    "# Loading Model VGG19\n",
    "pretrained_model = VGG19(input_shape=(image_height, image_width, channels), include_top=False, weights=\"imagenet\")\n",
    "pretrained_model.summary()"
   ]
  },
  {
   "cell_type": "code",
   "execution_count": 13,
   "metadata": {},
   "outputs": [],
   "source": [
    "# Freezing the layers \n",
    "for layer in pretrained_model.layers[:15]:\n",
    "    layer.trainable = False\n",
    "for layer in pretrained_model.layers[15:]:\n",
    "    layer.trainable = True"
   ]
  },
  {
   "cell_type": "code",
   "execution_count": 14,
   "metadata": {},
   "outputs": [],
   "source": [
    "# Modification of pretrained model\n",
    "last_layer = pretrained_model.get_layer('block5_pool')\n",
    "last_output = last_layer.output\n",
    " \n",
    "x = GlobalMaxPooling2D()(last_output)\n",
    "x = Dense(256, activation='relu')(x)\n",
    "x = Dropout(0.5)(x)\n",
    "x = layers.Dense(4, activation='sigmoid')(x)"
   ]
  },
  {
   "cell_type": "code",
   "execution_count": 15,
   "metadata": {},
   "outputs": [],
   "source": [
    "# Creating a new model\n",
    "model = Model(pretrained_model.input, x)"
   ]
  },
  {
   "cell_type": "code",
   "execution_count": 16,
   "metadata": {},
   "outputs": [],
   "source": [
    "#Callbacks\n",
    "n_epochs = 20\n",
    "import os\n",
    "cwd = os.getcwd()\n",
    "filepath = cwd\n",
    "from keras.optimizers import Adam\n",
    "from tensorflow.keras import callbacks\n",
    "\n",
    "lr_plateau = callbacks.ReduceLROnPlateau(monitor = 'val_loss',\n",
    "                                         patience=2,\n",
    "                                         verbose=2,\n",
    "                                         mode='min')\n",
    "early_stopping = callbacks.EarlyStopping(monitor = 'val_loss',\n",
    "                                         patience = 5,\n",
    "                                         mode = 'min',\n",
    "                                         restore_best_weights = True) \n",
    "def decreasinglrUpdate(epoch,learning_rate):\n",
    "    if epoch % 10 == 0:\n",
    "        return learning_rate * 0.1\n",
    "    else: \n",
    "        return learning_rate\n",
    "    \n",
    "lrScheduler = callbacks.LearningRateScheduler(schedule = decreasinglrUpdate,\n",
    "                                              verbose = 1)\n",
    "\n",
    "checkpoint = callbacks.ModelCheckpoint(filepath = \"Modele1_classi_simple.best.hdf5\", \n",
    "                                       monitor = 'val_loss',\n",
    "                                       save_best_only = True,\n",
    "                                       save_weights_only = False,\n",
    "                                       mode = 'min',\n",
    "                                       save_freq = 'epoch')"
   ]
  },
  {
   "cell_type": "code",
   "execution_count": 17,
   "metadata": {},
   "outputs": [],
   "source": [
    "model.compile(loss='sparse_categorical_crossentropy',\n",
    "              optimizer=Adam(lr=0.0001),\n",
    "              metrics=['accuracy'])\n",
    "#loss=binary_crossentropy"
   ]
  },
  {
   "cell_type": "code",
   "execution_count": 18,
   "metadata": {},
   "outputs": [
    {
     "name": "stdout",
     "output_type": "stream",
     "text": [
      "Model: \"functional_1\"\n",
      "_________________________________________________________________\n",
      "Layer (type)                 Output Shape              Param #   \n",
      "=================================================================\n",
      "input_1 (InputLayer)         [(None, 500, 500, 3)]     0         \n",
      "_________________________________________________________________\n",
      "block1_conv1 (Conv2D)        (None, 500, 500, 64)      1792      \n",
      "_________________________________________________________________\n",
      "block1_conv2 (Conv2D)        (None, 500, 500, 64)      36928     \n",
      "_________________________________________________________________\n",
      "block1_pool (MaxPooling2D)   (None, 250, 250, 64)      0         \n",
      "_________________________________________________________________\n",
      "block2_conv1 (Conv2D)        (None, 250, 250, 128)     73856     \n",
      "_________________________________________________________________\n",
      "block2_conv2 (Conv2D)        (None, 250, 250, 128)     147584    \n",
      "_________________________________________________________________\n",
      "block2_pool (MaxPooling2D)   (None, 125, 125, 128)     0         \n",
      "_________________________________________________________________\n",
      "block3_conv1 (Conv2D)        (None, 125, 125, 256)     295168    \n",
      "_________________________________________________________________\n",
      "block3_conv2 (Conv2D)        (None, 125, 125, 256)     590080    \n",
      "_________________________________________________________________\n",
      "block3_conv3 (Conv2D)        (None, 125, 125, 256)     590080    \n",
      "_________________________________________________________________\n",
      "block3_conv4 (Conv2D)        (None, 125, 125, 256)     590080    \n",
      "_________________________________________________________________\n",
      "block3_pool (MaxPooling2D)   (None, 62, 62, 256)       0         \n",
      "_________________________________________________________________\n",
      "block4_conv1 (Conv2D)        (None, 62, 62, 512)       1180160   \n",
      "_________________________________________________________________\n",
      "block4_conv2 (Conv2D)        (None, 62, 62, 512)       2359808   \n",
      "_________________________________________________________________\n",
      "block4_conv3 (Conv2D)        (None, 62, 62, 512)       2359808   \n",
      "_________________________________________________________________\n",
      "block4_conv4 (Conv2D)        (None, 62, 62, 512)       2359808   \n",
      "_________________________________________________________________\n",
      "block4_pool (MaxPooling2D)   (None, 31, 31, 512)       0         \n",
      "_________________________________________________________________\n",
      "block5_conv1 (Conv2D)        (None, 31, 31, 512)       2359808   \n",
      "_________________________________________________________________\n",
      "block5_conv2 (Conv2D)        (None, 31, 31, 512)       2359808   \n",
      "_________________________________________________________________\n",
      "block5_conv3 (Conv2D)        (None, 31, 31, 512)       2359808   \n",
      "_________________________________________________________________\n",
      "block5_conv4 (Conv2D)        (None, 31, 31, 512)       2359808   \n",
      "_________________________________________________________________\n",
      "block5_pool (MaxPooling2D)   (None, 15, 15, 512)       0         \n",
      "_________________________________________________________________\n",
      "global_max_pooling2d (Global (None, 512)               0         \n",
      "_________________________________________________________________\n",
      "dense (Dense)                (None, 256)               131328    \n",
      "_________________________________________________________________\n",
      "dropout (Dropout)            (None, 256)               0         \n",
      "_________________________________________________________________\n",
      "dense_1 (Dense)              (None, 4)                 1028      \n",
      "=================================================================\n",
      "Total params: 20,156,740\n",
      "Trainable params: 11,931,396\n",
      "Non-trainable params: 8,225,344\n",
      "_________________________________________________________________\n"
     ]
    }
   ],
   "source": [
    "model.summary()"
   ]
  },
  {
   "cell_type": "code",
   "execution_count": null,
   "metadata": {},
   "outputs": [
    {
     "name": "stdout",
     "output_type": "stream",
     "text": [
      "WARNING:tensorflow:From <ipython-input-19-b5047d75c7e3>:8: Model.fit_generator (from tensorflow.python.keras.engine.training) is deprecated and will be removed in a future version.\n",
      "Instructions for updating:\n",
      "Please use Model.fit, which supports generators.\n",
      "\n",
      "Epoch 00001: LearningRateScheduler reducing learning rate to 9.999999747378752e-06.\n",
      "Epoch 1/20\n"
     ]
    }
   ],
   "source": [
    "history = model.fit_generator(\n",
    "    train_generator,\n",
    "    epochs=n_epochs,\n",
    "    validation_data=test_generator,\n",
    "    #validation_steps=n_validation_samples//batch_size,\n",
    "    #steps_per_epoch=n_training_samples//batch_size,\n",
    "    callbacks = [lrScheduler, early_stopping, checkpoint],\n",
    "    verbose=1\n",
    ")"
   ]
  },
  {
   "cell_type": "code",
   "execution_count": 17,
   "metadata": {},
   "outputs": [],
   "source": [
    "acc = history.history['accuracy']\n",
    "val_acc = history.history['val_accuracy']\n",
    "loss = history.history['loss']\n",
    "val_loss = history.history['val_loss']\n",
    "\n",
    "epochs_range = range(15) # fonction pour récupérer le nbre d'epochs ?"
   ]
  },
  {
   "cell_type": "code",
   "execution_count": 18,
   "metadata": {},
   "outputs": [
    {
     "data": {
      "image/png": "[encoded data removed]",
      "text/plain": [
       "<Figure size 1080x1080 with 2 Axes>"
      ]
     },
     "metadata": {
      "needs_background": "light"
     },
     "output_type": "display_data"
    }
   ],
   "source": [
    "plt.figure(figsize=(15, 15))\n",
    "plt.subplot(2, 2, 1)\n",
    "plt.plot(epochs_range, acc, label='Training Acc')\n",
    "plt.plot(epochs_range, val_acc, label='Validation Acc')\n",
    "plt.legend()\n",
    "plt.title('Accuracy')\n",
    "\n",
    "\n",
    "plt.subplot(2, 2, 2)\n",
    "plt.plot(epochs_range, loss, label='Training Loss')\n",
    "plt.plot(epochs_range, val_loss, label='Validation Loss')\n",
    "plt.legend()\n",
    "plt.title('Loss')\n",
    "plt.show()"
   ]
  },
  {
   "cell_type": "code",
   "execution_count": 19,
   "metadata": {},
   "outputs": [
    {
     "name": "stdout",
     "output_type": "stream",
     "text": [
      "              precision    recall  f1-score   support\n",
      "\n",
      "        FISH       0.68      0.57      0.62        69\n",
      "      FLOWER       0.64      0.80      0.71        59\n",
      "      GRAVEL       0.60      0.40      0.48        62\n",
      "       SUGAR       0.58      0.71      0.64        79\n",
      "\n",
      "    accuracy                           0.62       269\n",
      "   macro avg       0.63      0.62      0.61       269\n",
      "weighted avg       0.62      0.62      0.61       269\n",
      "\n"
     ]
    }
   ],
   "source": [
    "from sklearn.metrics import classification_report\n",
    "y_pred = model.predict_generator(test_generator)\n",
    "y_pred_class = y_pred.argmax(axis = 1)\n",
    "#print(type(y_pred_class))\n",
    "y_test_class = X_test['class'].to_numpy(dtype = 'int')\n",
    "#print(y_test_class)\n",
    "print(classification_report(y_test_class, y_pred_class, target_names = ['FISH','FLOWER','GRAVEL','SUGAR']))"
   ]
  },
  {
   "cell_type": "code",
   "execution_count": 20,
   "metadata": {},
   "outputs": [
    {
     "data": {
      "text/html": [
       "<div>\n",
       "<style scoped>\n",
       "    .dataframe tbody tr th:only-of-type {\n",
       "        vertical-align: middle;\n",
       "    }\n",
       "\n",
       "    .dataframe tbody tr th {\n",
       "        vertical-align: top;\n",
       "    }\n",
       "\n",
       "    .dataframe thead th {\n",
       "        text-align: right;\n",
       "    }\n",
       "</style>\n",
       "<table border=\"1\" class=\"dataframe\">\n",
       "  <thead>\n",
       "    <tr style=\"text-align: right;\">\n",
       "      <th>Prédiction</th>\n",
       "      <th>0</th>\n",
       "      <th>1</th>\n",
       "      <th>2</th>\n",
       "      <th>3</th>\n",
       "    </tr>\n",
       "    <tr>\n",
       "      <th>Realité</th>\n",
       "      <th></th>\n",
       "      <th></th>\n",
       "      <th></th>\n",
       "      <th></th>\n",
       "    </tr>\n",
       "  </thead>\n",
       "  <tbody>\n",
       "    <tr>\n",
       "      <th>0</th>\n",
       "      <td>39</td>\n",
       "      <td>14</td>\n",
       "      <td>8</td>\n",
       "      <td>8</td>\n",
       "    </tr>\n",
       "    <tr>\n",
       "      <th>1</th>\n",
       "      <td>3</td>\n",
       "      <td>47</td>\n",
       "      <td>2</td>\n",
       "      <td>7</td>\n",
       "    </tr>\n",
       "    <tr>\n",
       "      <th>2</th>\n",
       "      <td>6</td>\n",
       "      <td>5</td>\n",
       "      <td>25</td>\n",
       "      <td>26</td>\n",
       "    </tr>\n",
       "    <tr>\n",
       "      <th>3</th>\n",
       "      <td>9</td>\n",
       "      <td>7</td>\n",
       "      <td>7</td>\n",
       "      <td>56</td>\n",
       "    </tr>\n",
       "  </tbody>\n",
       "</table>\n",
       "</div>"
      ],
      "text/plain": [
       "Prédiction   0   1   2   3\n",
       "Realité                   \n",
       "0           39  14   8   8\n",
       "1            3  47   2   7\n",
       "2            6   5  25  26\n",
       "3            9   7   7  56"
      ]
     },
     "execution_count": 20,
     "metadata": {},
     "output_type": "execute_result"
    }
   ],
   "source": [
    "cm = pd.crosstab(y_test_class, y_pred_class, rownames=['Realité'], colnames=['Prédiction'])\n",
    "cm"
   ]
  },
  {
   "cell_type": "code",
   "execution_count": 21,
   "metadata": {},
   "outputs": [
    {
     "data": {
      "image/png": "[encoded data removed]",
      "text/plain": [
       "<Figure size 432x288 with 2 Axes>"
      ]
     },
     "metadata": {
      "needs_background": "light"
     },
     "output_type": "display_data"
    }
   ],
   "source": [
    "from sklearn import metrics\n",
    "import itertools\n",
    "\n",
    "cnf_matrix = metrics.confusion_matrix(y_test_class, y_pred_class)\n",
    "\n",
    "classes = range(0,4)\n",
    "\n",
    "plt.figure()\n",
    "\n",
    "plt.imshow(cnf_matrix, interpolation='nearest',cmap='Blues')\n",
    "plt.title(\"Matrice de confusion\")\n",
    "plt.colorbar()\n",
    "tick_marks = np.arange(len(classes))\n",
    "plt.xticks(tick_marks, classes)\n",
    "plt.yticks(tick_marks, classes)\n",
    "\n",
    "for i, j in itertools.product(range(cnf_matrix.shape[0]), range(cnf_matrix.shape[1])):\n",
    "    plt.text(j, i, cnf_matrix[i, j],\n",
    "             horizontalalignment=\"center\",\n",
    "             color=\"white\" if cnf_matrix[i, j] > ( cnf_matrix.max() / 2) else \"black\")\n",
    "\n",
    "plt.ylabel('Vrais labels')\n",
    "plt.xlabel('Labels prédits')\n",
    "plt.show()"
   ]
  },
  {
   "cell_type": "code",
   "execution_count": 22,
   "metadata": {},
   "outputs": [
    {
     "name": "stdout",
     "output_type": "stream",
     "text": [
      "Saved model to disk\n"
     ]
    }
   ],
   "source": [
    "# serialize model to JSON\n",
    "model_json = model.to_json()\n",
    "with open(\"model1_classi_simple.json\", \"w\") as json_file:\n",
    "    json_file.write(model_json)\n",
    "# serialize weights to HDF5\n",
    "model.save_weights(\"model_1_classi_simple.h5\")\n",
    "print(\"Saved model to disk\")"
   ]
  }
 ],
 "metadata": {
  "kernelspec": {
   "display_name": "Python 3.5",
   "language": "python",
   "name": "python3"
  },
  "language_info": {
   "codemirror_mode": {
    "name": "ipython",
    "version": 3
   },
   "file_extension": ".py",
   "mimetype": "text/x-python",
   "name": "python",
   "nbconvert_exporter": "python",
   "pygments_lexer": "ipython3",
   "version": "3.5.6"
  }
 },
 "nbformat": 4,
 "nbformat_minor": 5
}
