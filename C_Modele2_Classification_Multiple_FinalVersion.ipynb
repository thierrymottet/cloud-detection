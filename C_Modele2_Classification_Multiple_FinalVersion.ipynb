{
 "cells": [
  {
   "cell_type": "markdown",
   "metadata": {},
   "source": [
    "# Modele de classification multiple\n",
    "\n",
    "Dans ce second modèle, nous avons continué de nous intéresser uniquement à la classification, mais en généralisant l'approche mono-forme du modèle 1 à une classification multi-formes, permettant ainsi de prédire plusieurs formes pour une seule image. \n",
    "L'approche est très similaire, nous nous appuyons à nouveau sur l'augmentation de données et un VGG19 préentraîné, sur lequel nous defreezons quelques couches.\n"
   ]
  },
  {
   "cell_type": "code",
   "execution_count": 16,
   "metadata": {},
   "outputs": [],
   "source": [
    "#Importation des packages nécessaires\n",
    "import numpy as np\n",
    "import cv2\n",
    "import matplotlib.pyplot as plt\n",
    "import seaborn as sns\n",
    "from keras.utils import np_utils\n",
    "import tensorflow as tf\n",
    "import os\n",
    "import pandas as pd\n",
    "\n",
    "import keras\n",
    "from keras.models import Sequential\n",
    "from keras.models import model_from_json\n",
    "from keras.layers import Dense, Conv2D , MaxPool2D , Flatten , Dropout, Activation,GlobalMaxPooling2D\n",
    "from keras.preprocessing.image import ImageDataGenerator\n",
    "from keras.optimizers import Adam\n",
    "from keras.layers.convolutional import MaxPooling2D\n",
    "from keras.layers.convolutional import Conv2D\n",
    "from keras import applications\n",
    "from keras import optimizers\n",
    "from keras.applications import VGG19\n",
    "from keras.models import Model\n",
    "from sklearn import metrics\n",
    "import itertools\n",
    "from keras import layers\n",
    "\n",
    "from sklearn.metrics import classification_report,confusion_matrix\n",
    "from sklearn.model_selection import train_test_split\n",
    "\n",
    "from keras.layers import Dense\n",
    "from keras.models import Sequential\n",
    "from keras.optimizers import SGD\n",
    "from keras.utils import to_categorical\n",
    "from keras.callbacks import Callback\n",
    "from keras import backend\n",
    "from tensorflow.keras import callbacks\n",
    "from tensorflow.keras import initializers\n",
    "\n",
    "from keras.callbacks import Callback, ModelCheckpoint, EarlyStopping, ReduceLROnPlateau"
   ]
  },
  {
   "cell_type": "markdown",
   "metadata": {},
   "source": [
    "### Préparation & augmentation  des données, séparation données entraînement et validation"
   ]
  },
  {
   "cell_type": "code",
   "execution_count": 2,
   "metadata": {},
   "outputs": [
    {
     "name": "stdout",
     "output_type": "stream",
     "text": [
      "(5546, 5)\n"
     ]
    },
    {
     "data": {
      "text/html": [
       "<div>\n",
       "<style scoped>\n",
       "    .dataframe tbody tr th:only-of-type {\n",
       "        vertical-align: middle;\n",
       "    }\n",
       "\n",
       "    .dataframe tbody tr th {\n",
       "        vertical-align: top;\n",
       "    }\n",
       "\n",
       "    .dataframe thead th {\n",
       "        text-align: right;\n",
       "    }\n",
       "</style>\n",
       "<table border=\"1\" class=\"dataframe\">\n",
       "  <thead>\n",
       "    <tr style=\"text-align: right;\">\n",
       "      <th></th>\n",
       "      <th>Label_Fish</th>\n",
       "      <th>Label_Flower</th>\n",
       "      <th>Label_Gravel</th>\n",
       "      <th>Label_Sugar</th>\n",
       "      <th>nb_formes</th>\n",
       "    </tr>\n",
       "    <tr>\n",
       "      <th>ImageId</th>\n",
       "      <th></th>\n",
       "      <th></th>\n",
       "      <th></th>\n",
       "      <th></th>\n",
       "      <th></th>\n",
       "    </tr>\n",
       "  </thead>\n",
       "  <tbody>\n",
       "    <tr>\n",
       "      <th>0011165.jpg</th>\n",
       "      <td>1</td>\n",
       "      <td>1</td>\n",
       "      <td>0</td>\n",
       "      <td>0</td>\n",
       "      <td>2</td>\n",
       "    </tr>\n",
       "    <tr>\n",
       "      <th>002be4f.jpg</th>\n",
       "      <td>1</td>\n",
       "      <td>1</td>\n",
       "      <td>0</td>\n",
       "      <td>1</td>\n",
       "      <td>3</td>\n",
       "    </tr>\n",
       "    <tr>\n",
       "      <th>0031ae9.jpg</th>\n",
       "      <td>1</td>\n",
       "      <td>1</td>\n",
       "      <td>0</td>\n",
       "      <td>1</td>\n",
       "      <td>3</td>\n",
       "    </tr>\n",
       "    <tr>\n",
       "      <th>0035239.jpg</th>\n",
       "      <td>0</td>\n",
       "      <td>1</td>\n",
       "      <td>1</td>\n",
       "      <td>0</td>\n",
       "      <td>2</td>\n",
       "    </tr>\n",
       "    <tr>\n",
       "      <th>003994e.jpg</th>\n",
       "      <td>1</td>\n",
       "      <td>0</td>\n",
       "      <td>1</td>\n",
       "      <td>1</td>\n",
       "      <td>3</td>\n",
       "    </tr>\n",
       "  </tbody>\n",
       "</table>\n",
       "</div>"
      ],
      "text/plain": [
       "             Label_Fish  Label_Flower  Label_Gravel  Label_Sugar  nb_formes\n",
       "ImageId                                                                    \n",
       "0011165.jpg           1             1             0            0          2\n",
       "002be4f.jpg           1             1             0            1          3\n",
       "0031ae9.jpg           1             1             0            1          3\n",
       "0035239.jpg           0             1             1            0          2\n",
       "003994e.jpg           1             0             1            1          3"
      ]
     },
     "execution_count": 2,
     "metadata": {},
     "output_type": "execute_result"
    }
   ],
   "source": [
    "import pandas as pd\n",
    "df_train = pd.read_csv('train.csv')\n",
    "# ajout de deux colonnes pour imageId et Label de forme\n",
    "split = df_train[\"Image_Label\"].str.split(\"_\", n = 1, expand = True)\n",
    "df_train['ImageId'] = split[0]\n",
    "df_train['Label'] = split[1]\n",
    "df_train.head()\n",
    "# création des colonnes indicatrices pour les formes, par dichotomie.\n",
    "df_corr =  pd.get_dummies(df_train, columns = ['Label'])\n",
    "# on suppprime les lignes ne contenant pas de forme\n",
    "df_corr = df_corr.dropna(how = 'any', axis = 0)\n",
    "# on droppe les colonnes inutiles\n",
    "df_corr = df_corr.drop(['Image_Label', 'EncodedPixels'], axis = 1)\n",
    "# on regroupe par ImageId, et on prend le max pour chacun des labels\n",
    "df_corr = df_corr.groupby('ImageId').max()\n",
    "# on ajoute finalement une colonne contenant le nombre de formes par image\n",
    "df_corr['nb_formes'] = df_corr.sum(axis = 1)\n",
    "print(df_corr.shape)\n",
    "df_corr.head(5)"
   ]
  },
  {
   "cell_type": "code",
   "execution_count": 3,
   "metadata": {},
   "outputs": [
    {
     "name": "stdout",
     "output_type": "stream",
     "text": [
      "(5544, 5)\n"
     ]
    }
   ],
   "source": [
    "# liste des images defectueuses\n",
    "list_def1 = ['c26c635.jpg','e5f2f24.jpg']\n",
    "# liste des images avec encodage defectueux\n",
    "#list_def2 = ['0741fda.jpg','1860780.jpg','2e324d9.jpg','40db224.jpg','4e29ef1.jpg','506e9d9.jpg','7229f89.jpg','8639a89.jpg','888f3b3.jpg',\n",
    "# '9c103e5.jpg','b30a770.jpg','b5f39d9.jpg','bb81b7b.jpg','c0c8d52.jpg','c3d60e6.jpg','ccafdde.jpg','d7591b4.jpg','d9bc3a5.jpg','ddb9ef1.jpg',\n",
    "# 'e4e22fd.jpg','f1ddbc8.jpg','f5691a9.jpg']\n",
    "\n",
    "# suppression des lignes correspondantes\n",
    "for name in list_def1:\n",
    "    df_corr =df_corr.drop(df_corr[df_corr.index == name].index)                \n",
    "#for name in list_def2:\n",
    "#    df_corr =df_corr.drop(df_corr[df_corr.index == name].index)\n",
    "\n",
    "print(df_corr.shape)"
   ]
  },
  {
   "cell_type": "code",
   "execution_count": 4,
   "metadata": {},
   "outputs": [],
   "source": [
    "# Constants\n",
    "image_width = 500\n",
    "image_height = 500\n",
    "img_size = 500\n",
    "channels = 3\n",
    "batch_size = 32\n",
    "IMG_SHAPE = 500"
   ]
  },
  {
   "cell_type": "markdown",
   "metadata": {},
   "source": [
    "Nous allons recharger en mémoire les images réduites en 500 x 500 pour l'entraînement du modèle."
   ]
  },
  {
   "cell_type": "code",
   "execution_count": 5,
   "metadata": {},
   "outputs": [
    {
     "name": "stdout",
     "output_type": "stream",
     "text": [
      "(5544, 5)\n"
     ]
    },
    {
     "data": {
      "text/html": [
       "<div>\n",
       "<style scoped>\n",
       "    .dataframe tbody tr th:only-of-type {\n",
       "        vertical-align: middle;\n",
       "    }\n",
       "\n",
       "    .dataframe tbody tr th {\n",
       "        vertical-align: top;\n",
       "    }\n",
       "\n",
       "    .dataframe thead th {\n",
       "        text-align: right;\n",
       "    }\n",
       "</style>\n",
       "<table border=\"1\" class=\"dataframe\">\n",
       "  <thead>\n",
       "    <tr style=\"text-align: right;\">\n",
       "      <th></th>\n",
       "      <th>Label_Fish</th>\n",
       "      <th>Label_Flower</th>\n",
       "      <th>Label_Gravel</th>\n",
       "      <th>Label_Sugar</th>\n",
       "      <th>path</th>\n",
       "    </tr>\n",
       "  </thead>\n",
       "  <tbody>\n",
       "    <tr>\n",
       "      <th>0</th>\n",
       "      <td>1</td>\n",
       "      <td>1</td>\n",
       "      <td>0</td>\n",
       "      <td>0</td>\n",
       "      <td>train_images_500/0011165.jpg</td>\n",
       "    </tr>\n",
       "    <tr>\n",
       "      <th>1</th>\n",
       "      <td>1</td>\n",
       "      <td>1</td>\n",
       "      <td>0</td>\n",
       "      <td>1</td>\n",
       "      <td>train_images_500/002be4f.jpg</td>\n",
       "    </tr>\n",
       "    <tr>\n",
       "      <th>2</th>\n",
       "      <td>1</td>\n",
       "      <td>1</td>\n",
       "      <td>0</td>\n",
       "      <td>1</td>\n",
       "      <td>train_images_500/0031ae9.jpg</td>\n",
       "    </tr>\n",
       "    <tr>\n",
       "      <th>3</th>\n",
       "      <td>0</td>\n",
       "      <td>1</td>\n",
       "      <td>1</td>\n",
       "      <td>0</td>\n",
       "      <td>train_images_500/0035239.jpg</td>\n",
       "    </tr>\n",
       "    <tr>\n",
       "      <th>4</th>\n",
       "      <td>1</td>\n",
       "      <td>0</td>\n",
       "      <td>1</td>\n",
       "      <td>1</td>\n",
       "      <td>train_images_500/003994e.jpg</td>\n",
       "    </tr>\n",
       "  </tbody>\n",
       "</table>\n",
       "</div>"
      ],
      "text/plain": [
       "   Label_Fish  Label_Flower  Label_Gravel  Label_Sugar  \\\n",
       "0           1             1             0            0   \n",
       "1           1             1             0            1   \n",
       "2           1             1             0            1   \n",
       "3           0             1             1            0   \n",
       "4           1             0             1            1   \n",
       "\n",
       "                           path  \n",
       "0  train_images_500/0011165.jpg  \n",
       "1  train_images_500/002be4f.jpg  \n",
       "2  train_images_500/0031ae9.jpg  \n",
       "3  train_images_500/0035239.jpg  \n",
       "4  train_images_500/003994e.jpg  "
      ]
     },
     "execution_count": 5,
     "metadata": {},
     "output_type": "execute_result"
    }
   ],
   "source": [
    "#On va aggréger les différentes formes présentes en une seule colonne \n",
    "def modify_path(img):\n",
    "    path = 'train_images_500/' + str(img)\n",
    "    return path\n",
    "def getclass(row):\n",
    "    if row.Label_Fish == 1:\n",
    "        return 0\n",
    "    if row.Label_Flower == 1:\n",
    "        return 1\n",
    "    if row.Label_Gravel == 1:\n",
    "        return 2\n",
    "    if row.Label_Sugar == 1:\n",
    "        return 3   \n",
    "df_data = df_corr\n",
    "df_data['path'] = df_corr.index.map(modify_path)\n",
    "df_data = df_data.reset_index()\n",
    "df_data = df_data.drop(['ImageId','nb_formes'], axis = 1)\n",
    "print(df_data.shape)\n",
    "df_data.head()\n"
   ]
  },
  {
   "cell_type": "code",
   "execution_count": 6,
   "metadata": {},
   "outputs": [],
   "source": [
    "from sklearn.model_selection import train_test_split\n",
    "X_train, X_test = train_test_split(df_data, test_size = 0.2)"
   ]
  },
  {
   "cell_type": "code",
   "execution_count": 7,
   "metadata": {},
   "outputs": [],
   "source": [
    "from keras.preprocessing.image import ImageDataGenerator\n",
    "\n",
    "from keras.applications.vgg19 import preprocess_input\n",
    "train_data_generator = ImageDataGenerator(rescale = 1./255,\n",
    "                                          rotation_range = 10,\n",
    "                                          width_shift_range = 0.1,\n",
    "                                          height_shift_range = 0.1,\n",
    "                                          zoom_range = 0.1,\n",
    "                                          fill_mode='nearest'\n",
    "                                         )\n",
    "\n",
    "test_data_generator = ImageDataGenerator(rescale = 1./255) #"
   ]
  },
  {
   "cell_type": "code",
   "execution_count": 8,
   "metadata": {},
   "outputs": [
    {
     "name": "stdout",
     "output_type": "stream",
     "text": [
      "Found 4435 validated image filenames.\n",
      "Found 1109 validated image filenames.\n"
     ]
    }
   ],
   "source": [
    "columns = ['Label_Fish', 'Label_Flower', 'Label_Gravel', 'Label_Sugar']\n",
    "\n",
    "train_generator = train_data_generator.flow_from_dataframe(dataframe=X_train,\n",
    "                                                          directory=\"\",\n",
    "                                                           x_col = \"path\",\n",
    "                                                           y_col = columns,\n",
    "                                                           class_mode =\"raw\",\n",
    "                                                          shuffle = False,\n",
    "                                                          target_size = (img_size , img_size), \n",
    "                                                          batch_size = batch_size)\n",
    "\n",
    "test_generator = test_data_generator.flow_from_dataframe(dataframe=X_test,\n",
    "                                                          directory=\"\",\n",
    "                                                           x_col = \"path\",\n",
    "                                                           y_col = columns,\n",
    "                                                           class_mode =\"raw\",\n",
    "                                                          shuffle = False,\n",
    "                                                          target_size = (img_size , img_size), \n",
    "                                                          batch_size = batch_size)"
   ]
  },
  {
   "cell_type": "markdown",
   "metadata": {},
   "source": [
    "### Définition, compilation et entraînement du modèle"
   ]
  },
  {
   "cell_type": "code",
   "execution_count": 9,
   "metadata": {},
   "outputs": [
    {
     "name": "stdout",
     "output_type": "stream",
     "text": [
      "Model: \"vgg19\"\n",
      "_________________________________________________________________\n",
      "Layer (type)                 Output Shape              Param #   \n",
      "=================================================================\n",
      "input_1 (InputLayer)         [(None, 500, 500, 3)]     0         \n",
      "_________________________________________________________________\n",
      "block1_conv1 (Conv2D)        (None, 500, 500, 64)      1792      \n",
      "_________________________________________________________________\n",
      "block1_conv2 (Conv2D)        (None, 500, 500, 64)      36928     \n",
      "_________________________________________________________________\n",
      "block1_pool (MaxPooling2D)   (None, 250, 250, 64)      0         \n",
      "_________________________________________________________________\n",
      "block2_conv1 (Conv2D)        (None, 250, 250, 128)     73856     \n",
      "_________________________________________________________________\n",
      "block2_conv2 (Conv2D)        (None, 250, 250, 128)     147584    \n",
      "_________________________________________________________________\n",
      "block2_pool (MaxPooling2D)   (None, 125, 125, 128)     0         \n",
      "_________________________________________________________________\n",
      "block3_conv1 (Conv2D)        (None, 125, 125, 256)     295168    \n",
      "_________________________________________________________________\n",
      "block3_conv2 (Conv2D)        (None, 125, 125, 256)     590080    \n",
      "_________________________________________________________________\n",
      "block3_conv3 (Conv2D)        (None, 125, 125, 256)     590080    \n",
      "_________________________________________________________________\n",
      "block3_conv4 (Conv2D)        (None, 125, 125, 256)     590080    \n",
      "_________________________________________________________________\n",
      "block3_pool (MaxPooling2D)   (None, 62, 62, 256)       0         \n",
      "_________________________________________________________________\n",
      "block4_conv1 (Conv2D)        (None, 62, 62, 512)       1180160   \n",
      "_________________________________________________________________\n",
      "block4_conv2 (Conv2D)        (None, 62, 62, 512)       2359808   \n",
      "_________________________________________________________________\n",
      "block4_conv3 (Conv2D)        (None, 62, 62, 512)       2359808   \n",
      "_________________________________________________________________\n",
      "block4_conv4 (Conv2D)        (None, 62, 62, 512)       2359808   \n",
      "_________________________________________________________________\n",
      "block4_pool (MaxPooling2D)   (None, 31, 31, 512)       0         \n",
      "_________________________________________________________________\n",
      "block5_conv1 (Conv2D)        (None, 31, 31, 512)       2359808   \n",
      "_________________________________________________________________\n",
      "block5_conv2 (Conv2D)        (None, 31, 31, 512)       2359808   \n",
      "_________________________________________________________________\n",
      "block5_conv3 (Conv2D)        (None, 31, 31, 512)       2359808   \n",
      "_________________________________________________________________\n",
      "block5_conv4 (Conv2D)        (None, 31, 31, 512)       2359808   \n",
      "_________________________________________________________________\n",
      "block5_pool (MaxPooling2D)   (None, 15, 15, 512)       0         \n",
      "=================================================================\n",
      "Total params: 20,024,384\n",
      "Trainable params: 20,024,384\n",
      "Non-trainable params: 0\n",
      "_________________________________________________________________\n"
     ]
    }
   ],
   "source": [
    "# Loading Model VGG19\n",
    "pretrained_model = VGG19(input_shape=(image_height, image_width, channels), include_top=False, weights=\"imagenet\")\n",
    "pretrained_model.summary()"
   ]
  },
  {
   "cell_type": "code",
   "execution_count": 10,
   "metadata": {},
   "outputs": [],
   "source": [
    "# Freezing the layers (a vérifier a valeur 15 ?)\n",
    "for layer in pretrained_model.layers[:15]:\n",
    "    layer.trainable = False\n",
    "for layer in pretrained_model.layers[15:]:\n",
    "    layer.trainable = True"
   ]
  },
  {
   "cell_type": "code",
   "execution_count": 11,
   "metadata": {},
   "outputs": [],
   "source": [
    "# Modification of pretrained model\n",
    "last_layer = pretrained_model.get_layer('block5_pool')\n",
    "last_output = last_layer.output\n",
    " \n",
    "x = GlobalMaxPooling2D()(last_output)\n",
    "x = Dense(256, activation='relu')(x)\n",
    "x = Dropout(0.5)(x)\n",
    "x = layers.Dense(4, activation='sigmoid')(x)"
   ]
  },
  {
   "cell_type": "code",
   "execution_count": 12,
   "metadata": {},
   "outputs": [],
   "source": [
    "# Creating a new model\n",
    "model = Model(pretrained_model.input, x)"
   ]
  },
  {
   "cell_type": "code",
   "execution_count": 13,
   "metadata": {},
   "outputs": [],
   "source": [
    "#Callbacks\n",
    "n_epochs = 20\n",
    "import os\n",
    "cwd = os.getcwd()\n",
    "filepath = cwd\n",
    "from keras.optimizers import Adam\n",
    "from tensorflow.keras import callbacks\n",
    "\n",
    "lr_plateau = callbacks.ReduceLROnPlateau(monitor = 'val_loss',\n",
    "                                         patience=2,\n",
    "                                         verbose=2,\n",
    "                                         mode='min')\n",
    "early_stopping = callbacks.EarlyStopping(monitor = 'val_loss',\n",
    "                                         patience = 5,\n",
    "                                         mode = 'min',\n",
    "                                         restore_best_weights = True) \n",
    "def decreasinglrUpdate(epoch,learning_rate):\n",
    "    if epoch % 10 == 0:\n",
    "        return learning_rate * 0.1\n",
    "    else: \n",
    "        return learning_rate\n",
    "    \n",
    "lrScheduler = callbacks.LearningRateScheduler(schedule = decreasinglrUpdate,\n",
    "                                              verbose = 1)\n",
    "\n",
    "checkpoint = callbacks.ModelCheckpoint(filepath = \"weightsTRYVGG19.best.hdf5\", \n",
    "                                       monitor = 'val_loss',\n",
    "                                       save_best_only = True,\n",
    "                                       save_weights_only = False,\n",
    "                                       mode = 'min',\n",
    "                                       save_freq = 'epoch')"
   ]
  },
  {
   "cell_type": "code",
   "execution_count": 14,
   "metadata": {},
   "outputs": [],
   "source": [
    "model.compile(loss='binary_crossentropy',\n",
    "              optimizer=Adam(lr=0.0001),\n",
    "              metrics=['accuracy'])\n",
    "#loss=binary_crossentropy"
   ]
  },
  {
   "cell_type": "code",
   "execution_count": 15,
   "metadata": {},
   "outputs": [
    {
     "name": "stdout",
     "output_type": "stream",
     "text": [
      "Model: \"functional_1\"\n",
      "_________________________________________________________________\n",
      "Layer (type)                 Output Shape              Param #   \n",
      "=================================================================\n",
      "input_1 (InputLayer)         [(None, 500, 500, 3)]     0         \n",
      "_________________________________________________________________\n",
      "block1_conv1 (Conv2D)        (None, 500, 500, 64)      1792      \n",
      "_________________________________________________________________\n",
      "block1_conv2 (Conv2D)        (None, 500, 500, 64)      36928     \n",
      "_________________________________________________________________\n",
      "block1_pool (MaxPooling2D)   (None, 250, 250, 64)      0         \n",
      "_________________________________________________________________\n",
      "block2_conv1 (Conv2D)        (None, 250, 250, 128)     73856     \n",
      "_________________________________________________________________\n",
      "block2_conv2 (Conv2D)        (None, 250, 250, 128)     147584    \n",
      "_________________________________________________________________\n",
      "block2_pool (MaxPooling2D)   (None, 125, 125, 128)     0         \n",
      "_________________________________________________________________\n",
      "block3_conv1 (Conv2D)        (None, 125, 125, 256)     295168    \n",
      "_________________________________________________________________\n",
      "block3_conv2 (Conv2D)        (None, 125, 125, 256)     590080    \n",
      "_________________________________________________________________\n",
      "block3_conv3 (Conv2D)        (None, 125, 125, 256)     590080    \n",
      "_________________________________________________________________\n",
      "block3_conv4 (Conv2D)        (None, 125, 125, 256)     590080    \n",
      "_________________________________________________________________\n",
      "block3_pool (MaxPooling2D)   (None, 62, 62, 256)       0         \n",
      "_________________________________________________________________\n",
      "block4_conv1 (Conv2D)        (None, 62, 62, 512)       1180160   \n",
      "_________________________________________________________________\n",
      "block4_conv2 (Conv2D)        (None, 62, 62, 512)       2359808   \n",
      "_________________________________________________________________\n",
      "block4_conv3 (Conv2D)        (None, 62, 62, 512)       2359808   \n",
      "_________________________________________________________________\n",
      "block4_conv4 (Conv2D)        (None, 62, 62, 512)       2359808   \n",
      "_________________________________________________________________\n",
      "block4_pool (MaxPooling2D)   (None, 31, 31, 512)       0         \n",
      "_________________________________________________________________\n",
      "block5_conv1 (Conv2D)        (None, 31, 31, 512)       2359808   \n",
      "_________________________________________________________________\n",
      "block5_conv2 (Conv2D)        (None, 31, 31, 512)       2359808   \n",
      "_________________________________________________________________\n",
      "block5_conv3 (Conv2D)        (None, 31, 31, 512)       2359808   \n",
      "_________________________________________________________________\n",
      "block5_conv4 (Conv2D)        (None, 31, 31, 512)       2359808   \n",
      "_________________________________________________________________\n",
      "block5_pool (MaxPooling2D)   (None, 15, 15, 512)       0         \n",
      "_________________________________________________________________\n",
      "global_max_pooling2d (Global (None, 512)               0         \n",
      "_________________________________________________________________\n",
      "dense (Dense)                (None, 256)               131328    \n",
      "_________________________________________________________________\n",
      "dropout (Dropout)            (None, 256)               0         \n",
      "_________________________________________________________________\n",
      "dense_1 (Dense)              (None, 4)                 1028      \n",
      "=================================================================\n",
      "Total params: 20,156,740\n",
      "Trainable params: 11,931,396\n",
      "Non-trainable params: 8,225,344\n",
      "_________________________________________________________________\n"
     ]
    }
   ],
   "source": [
    "model.summary()"
   ]
  },
  {
   "cell_type": "code",
   "execution_count": null,
   "metadata": {},
   "outputs": [
    {
     "name": "stdout",
     "output_type": "stream",
     "text": [
      "Epoch 1/20\n",
      "\n",
      "Epoch 00001: LearningRateScheduler reducing learning rate to 9.999999747378752e-06.\n",
      "139/139 [==============================] - 259s 2s/step - loss: 0.7137 - accuracy: 0.5550 - val_loss: 0.6399 - val_accuracy: 0.6312\n",
      "Epoch 2/20\n",
      "\n",
      "Epoch 00002: LearningRateScheduler reducing learning rate to 9.999999747378752e-06.\n",
      "139/139 [==============================] - 251s 2s/step - loss: 0.6306 - accuracy: 0.6343 - val_loss: 0.6162 - val_accuracy: 0.6828\n",
      "Epoch 3/20\n",
      "\n",
      "Epoch 00003: LearningRateScheduler reducing learning rate to 9.999999747378752e-06.\n",
      "139/139 [==============================] - 252s 2s/step - loss: 0.5909 - accuracy: 0.6749 - val_loss: 0.6188 - val_accuracy: 0.7059\n",
      "Epoch 4/20\n",
      "\n",
      "Epoch 00004: LearningRateScheduler reducing learning rate to 9.999999747378752e-06.\n",
      "139/139 [==============================] - 252s 2s/step - loss: 0.5678 - accuracy: 0.6989 - val_loss: 0.6013 - val_accuracy: 0.7138\n",
      "Epoch 5/20\n",
      "\n",
      "Epoch 00005: LearningRateScheduler reducing learning rate to 9.999999747378752e-06.\n",
      "139/139 [==============================] - 252s 2s/step - loss: 0.5560 - accuracy: 0.7085 - val_loss: 0.5910 - val_accuracy: 0.7201\n",
      "Epoch 6/20\n",
      "\n",
      "Epoch 00006: LearningRateScheduler reducing learning rate to 9.999999747378752e-06.\n",
      "139/139 [==============================] - 252s 2s/step - loss: 0.5478 - accuracy: 0.7126 - val_loss: 0.5762 - val_accuracy: 0.7179\n",
      "Epoch 7/20\n",
      "\n",
      "Epoch 00007: LearningRateScheduler reducing learning rate to 9.999999747378752e-06.\n",
      "139/139 [==============================] - 252s 2s/step - loss: 0.5395 - accuracy: 0.7168 - val_loss: 0.5631 - val_accuracy: 0.7271\n",
      "Epoch 8/20\n",
      "\n",
      "Epoch 00008: LearningRateScheduler reducing learning rate to 9.999999747378752e-06.\n",
      "139/139 [==============================] - 252s 2s/step - loss: 0.5270 - accuracy: 0.7279 - val_loss: 0.5366 - val_accuracy: 0.7373\n",
      "Epoch 9/20\n",
      "\n",
      "Epoch 00009: LearningRateScheduler reducing learning rate to 9.999999747378752e-06.\n",
      "139/139 [==============================] - 252s 2s/step - loss: 0.5190 - accuracy: 0.7369 - val_loss: 0.5435 - val_accuracy: 0.7296\n",
      "Epoch 10/20\n",
      "\n",
      "Epoch 00010: LearningRateScheduler reducing learning rate to 9.999999747378752e-06.\n",
      "139/139 [==============================] - 251s 2s/step - loss: 0.5071 - accuracy: 0.7429 - val_loss: 0.5298 - val_accuracy: 0.7371\n",
      "Epoch 11/20\n",
      "\n",
      "Epoch 00011: LearningRateScheduler reducing learning rate to 9.999999747378752e-07.\n",
      "139/139 [==============================] - 252s 2s/step - loss: 0.4955 - accuracy: 0.7509 - val_loss: 0.5204 - val_accuracy: 0.7382\n",
      "Epoch 12/20\n",
      "\n",
      "Epoch 00012: LearningRateScheduler reducing learning rate to 9.999999974752427e-07.\n",
      "139/139 [==============================] - 252s 2s/step - loss: 0.4946 - accuracy: 0.7551 - val_loss: 0.5177 - val_accuracy: 0.7396\n",
      "Epoch 13/20\n",
      "\n",
      "Epoch 00013: LearningRateScheduler reducing learning rate to 9.999999974752427e-07.\n",
      "139/139 [==============================] - 252s 2s/step - loss: 0.4919 - accuracy: 0.7548 - val_loss: 0.5129 - val_accuracy: 0.7382\n",
      "Epoch 14/20\n",
      "\n",
      "Epoch 00014: LearningRateScheduler reducing learning rate to 9.999999974752427e-07.\n",
      "139/139 [==============================] - 252s 2s/step - loss: 0.4929 - accuracy: 0.7560 - val_loss: 0.5127 - val_accuracy: 0.7362\n",
      "Epoch 15/20\n",
      "\n",
      "Epoch 00015: LearningRateScheduler reducing learning rate to 9.999999974752427e-07.\n",
      "139/139 [==============================] - 251s 2s/step - loss: 0.4896 - accuracy: 0.7551 - val_loss: 0.5108 - val_accuracy: 0.7385\n",
      "Epoch 16/20\n",
      "\n",
      "Epoch 00016: LearningRateScheduler reducing learning rate to 9.999999974752427e-07.\n",
      "139/139 [==============================] - 251s 2s/step - loss: 0.4891 - accuracy: 0.7608 - val_loss: 0.5140 - val_accuracy: 0.7364\n",
      "Epoch 17/20\n",
      "\n",
      "Epoch 00017: LearningRateScheduler reducing learning rate to 9.999999974752427e-07.\n",
      "139/139 [==============================] - 251s 2s/step - loss: 0.4922 - accuracy: 0.7560 - val_loss: 0.5101 - val_accuracy: 0.7360\n",
      "Epoch 18/20\n",
      "\n",
      "Epoch 00018: LearningRateScheduler reducing learning rate to 9.999999974752427e-07.\n",
      "139/139 [==============================] - 252s 2s/step - loss: 0.4876 - accuracy: 0.7585 - val_loss: 0.5111 - val_accuracy: 0.7337\n",
      "Epoch 19/20\n",
      "\n",
      "Epoch 00019: LearningRateScheduler reducing learning rate to 9.999999974752427e-07.\n",
      "139/139 [==============================] - 252s 2s/step - loss: 0.4874 - accuracy: 0.7548 - val_loss: 0.5123 - val_accuracy: 0.7382\n",
      "Epoch 20/20\n",
      "\n",
      "Epoch 00020: LearningRateScheduler reducing learning rate to 9.999999974752427e-07.\n",
      " 51/139 [==========>...................] - ETA: 2:12 - loss: 0.4926 - accuracy: 0.7540"
     ]
    }
   ],
   "source": [
    "history = model.fit_generator(\n",
    "    train_generator,\n",
    "    epochs=n_epochs,\n",
    "    validation_data=test_generator,\n",
    "    #validation_steps=n_validation_samples//batch_size,\n",
    "    #steps_per_epoch=n_training_samples//batch_size,\n",
    "    callbacks = [lrScheduler, early_stopping, checkpoint],\n",
    "    verbose=1\n",
    ")"
   ]
  },
  {
   "cell_type": "markdown",
   "metadata": {},
   "source": [
    "### Performance du modèle"
   ]
  },
  {
   "cell_type": "code",
   "execution_count": 59,
   "metadata": {},
   "outputs": [],
   "source": [
    "acc = history.history['accuracy']\n",
    "val_acc = history.history['val_accuracy']\n",
    "loss = history.history['loss']\n",
    "val_loss = history.history['val_loss']\n",
    "\n",
    "epochs_range = range(20) # fonction pour récupérer le nbre d'epochs ?"
   ]
  },
  {
   "cell_type": "code",
   "execution_count": 60,
   "metadata": {},
   "outputs": [
    {
     "data": {
      "image/png": "[encoded data removed]",
      "text/plain": [
       "<Figure size 1080x1080 with 2 Axes>"
      ]
     },
     "metadata": {
      "needs_background": "light"
     },
     "output_type": "display_data"
    }
   ],
   "source": [
    "plt.figure(figsize=(15, 15))\n",
    "plt.subplot(2, 2, 1)\n",
    "plt.plot(epochs_range, acc, label='Training Acc')\n",
    "plt.plot(epochs_range, val_acc, label='Validation Acc')\n",
    "plt.legend()\n",
    "plt.title('Accuracy')\n",
    "\n",
    "\n",
    "plt.subplot(2, 2, 2)\n",
    "plt.plot(epochs_range, loss, label='Training Loss')\n",
    "plt.plot(epochs_range, val_loss, label='Validation Loss')\n",
    "plt.legend()\n",
    "plt.title('Loss')\n",
    "plt.show()"
   ]
  },
  {
   "cell_type": "code",
   "execution_count": 63,
   "metadata": {},
   "outputs": [
    {
     "name": "stdout",
     "output_type": "stream",
     "text": [
      "[[0.5959144  0.20161971 0.78454316 0.77737457]\n",
      " [0.20219031 0.09297463 0.8841634  0.9318603 ]\n",
      " [0.789599   0.48132765 0.33870047 0.66019034]\n",
      " ...\n",
      " [0.45138258 0.35484573 0.42620185 0.8604527 ]\n",
      " [0.242865   0.13254622 0.7957729  0.9316901 ]\n",
      " [0.2725998  0.96941257 0.17536318 0.2997281 ]]\n"
     ]
    }
   ],
   "source": [
    "from sklearn.metrics import classification_report\n",
    "y_pred = model.predict_generator(test_generator)\n",
    "print(y_pred)\n",
    "#y_pred_class = y_pred.argmax(axis = 1)\n",
    "#print(type(y_pred_class))\n",
    "#y_test_class = X_test['class'].to_numpy(dtype = 'int')\n",
    "#print(y_test_class)\n",
    "#print(classification_report(y_test_class, y_pred_class, target_names = ['FISH','FLOWER','GRAVEL','SUGAR']))"
   ]
  },
  {
   "cell_type": "code",
   "execution_count": 72,
   "metadata": {},
   "outputs": [
    {
     "name": "stdout",
     "output_type": "stream",
     "text": [
      "              precision    recall  f1-score   support\n",
      "\n",
      "        FISH       0.74      0.51      0.60       558\n",
      "      FLOWER       0.83      0.77      0.80       470\n",
      "      GRAVEL       0.67      0.86      0.75       581\n",
      "       SUGAR       0.73      0.97      0.83       734\n",
      "\n",
      "   micro avg       0.73      0.79      0.76      2343\n",
      "   macro avg       0.74      0.78      0.75      2343\n",
      "weighted avg       0.74      0.79      0.75      2343\n",
      " samples avg       0.75      0.82      0.74      2343\n",
      "\n"
     ]
    }
   ],
   "source": [
    "y_pred_class = (y_pred > 0.5).astype(int)\n",
    "results=pd.DataFrame(y_pred_class, columns=columns)\n",
    "#results[\"Filenames\"]=test_generator.path\n",
    "X_test_class = X_test.drop(['path'], axis = 1)\n",
    "y_test_class = X_test_class.to_numpy(dtype = 'int')\n",
    "#print(y_pred_class)\n",
    "#print(y_test_class)\n",
    "print(classification_report(y_test_class, y_pred_class, target_names = ['FISH','FLOWER','GRAVEL','SUGAR']))"
   ]
  },
  {
   "cell_type": "markdown",
   "metadata": {},
   "source": [
    "La précision de notre modèle semble correcte, mais il faut remarquer qu'elle est calculée formes par forme. Ainsi une image avec 2 bonnes formes prédites sur 3 contribuera à 2 bonnes prédictions et 1 mauvaise pour nos métriques (et non pas 1 mauvaise, ce qui aurait été le cas si nous avions raisonné en combinaison de formes, et pas forme par forme).\n",
    "\n",
    "### Sauvegarde du modèle"
   ]
  },
  {
   "cell_type": "code",
   "execution_count": 84,
   "metadata": {},
   "outputs": [
    {
     "name": "stdout",
     "output_type": "stream",
     "text": [
      "Saved model to disk\n"
     ]
    }
   ],
   "source": [
    "# serialize model to JSON\n",
    "model_json = model.to_json()\n",
    "with open(\"model2_classi_multi.json\", \"w\") as json_file:\n",
    "    json_file.write(model_json)\n",
    "# serialize weights to HDF5\n",
    "model.save_weights(\"model2_classi_multi.h5\")\n",
    "print(\"Saved model to disk\")"
   ]
  },
  {
   "cell_type": "code",
   "execution_count": null,
   "metadata": {},
   "outputs": [],
   "source": []
  }
 ],
 "metadata": {
  "kernelspec": {
   "display_name": "Python 3.5",
   "language": "python",
   "name": "python3"
  },
  "language_info": {
   "codemirror_mode": {
    "name": "ipython",
    "version": 3
   },
   "file_extension": ".py",
   "mimetype": "text/x-python",
   "name": "python",
   "nbconvert_exporter": "python",
   "pygments_lexer": "ipython3",
   "version": "3.5.6"
  }
 },
 "nbformat": 4,
 "nbformat_minor": 5
}
